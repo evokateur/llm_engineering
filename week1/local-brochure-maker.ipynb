{
 "cells": [
  {
   "cell_type": "code",
   "execution_count": 1,
   "id": "251cc388-6712-41ad-be8e-71f5c192ee11",
   "metadata": {},
   "outputs": [],
   "source": [
    "import os\n",
    "import os\n",
    "import requests\n",
    "import json\n",
    "from typing import List\n",
    "from dotenv import load_dotenv\n",
    "from bs4 import BeautifulSoup\n",
    "from IPython.display import Markdown, display, update_display\n",
    "from openai import OpenAI"
   ]
  },
  {
   "cell_type": "code",
   "execution_count": 10,
   "id": "282c8dae-edee-45be-9252-99086a22c7e6",
   "metadata": {},
   "outputs": [],
   "source": [
    "MODEL = 'llama3.2'"
   ]
  },
  {
   "cell_type": "code",
   "execution_count": 2,
   "id": "256951e7-5971-4d5e-bc9b-1ae5c0822229",
   "metadata": {},
   "outputs": [],
   "source": [
    "# A class to represent a Webpage\n",
    "\n",
    "# Some websites need you to use proper headers when fetching them:\n",
    "headers = {\n",
    " \"User-Agent\": \"Mozilla/5.0 (Windows NT 10.0; Win64; x64) AppleWebKit/537.36 (KHTML, like Gecko) Chrome/117.0.0.0 Safari/537.36\"\n",
    "}\n",
    "\n",
    "class Website:\n",
    "    \"\"\"\n",
    "    A utility class to represent a Website that we have scraped, now with links\n",
    "    \"\"\"\n",
    "\n",
    "    def __init__(self, url):\n",
    "        self.url = url\n",
    "        response = requests.get(url, headers=headers)\n",
    "        self.body = response.content\n",
    "        soup = BeautifulSoup(self.body, 'html.parser')\n",
    "        self.title = soup.title.string if soup.title else \"No title found\"\n",
    "        if soup.body:\n",
    "            for irrelevant in soup.body([\"script\", \"style\", \"img\", \"input\"]):\n",
    "                irrelevant.decompose()\n",
    "            self.text = soup.body.get_text(separator=\"\\n\", strip=True)\n",
    "        else:\n",
    "            self.text = \"\"\n",
    "        links = [link.get('href') for link in soup.find_all('a')]\n",
    "        self.links = [link for link in links if link]\n",
    "\n",
    "    def get_contents(self):\n",
    "        return f\"Webpage Title:\\n{self.title}\\nWebpage Contents:\\n{self.text}\\n\\n\""
   ]
  },
  {
   "cell_type": "code",
   "execution_count": 5,
   "id": "42d0416f-bd61-4c21-bb13-904e5382c258",
   "metadata": {},
   "outputs": [],
   "source": [
    "def get_links_user_prompt(website):\n",
    "    user_prompt = f\"Here is the list of links on the website of {website.url} - \"\n",
    "    user_prompt += \"please decide which of these are relevant web links for a brochure about the company, respond with the full https URL in JSON format. \\\n",
    "Do not include Terms of Service, Privacy, email links.\\n\"\n",
    "    user_prompt += \"Links (some might be relative links):\\n\"\n",
    "    user_prompt += \"\\n\".join(website.links)\n",
    "    return user_prompt"
   ]
  },
  {
   "cell_type": "code",
   "execution_count": 7,
   "id": "1f81c39a-df35-4e68-b858-a6c4861a9dd2",
   "metadata": {},
   "outputs": [],
   "source": [
    "openai = OpenAI(base_url='http://localhost:11434/v1', api_key='ollama')"
   ]
  },
  {
   "cell_type": "code",
   "execution_count": 8,
   "id": "8b0fe0bd-2b80-4bf3-aced-7d14a6d47955",
   "metadata": {},
   "outputs": [],
   "source": [
    "def get_links(url):\n",
    "    website = Website(url)\n",
    "    response = openai.chat.completions.create(\n",
    "        model=MODEL,\n",
    "        messages=[\n",
    "            {\"role\": \"system\", \"content\": link_system_prompt},\n",
    "            {\"role\": \"user\", \"content\": get_links_user_prompt(website)}\n",
    "      ],\n",
    "        response_format={\"type\": \"json_object\"}\n",
    "    )\n",
    "    result = response.choices[0].message.content\n",
    "    return json.loads(result)"
   ]
  },
  {
   "cell_type": "code",
   "execution_count": 11,
   "id": "6fa231cc-2058-4327-b285-44f4c05409e6",
   "metadata": {},
   "outputs": [
    {
     "data": {
      "text/plain": [
       "{'links': [{'type': 'home/careers',\n",
       "   'url': 'https://staging.ianwhinkle.com/experience/'},\n",
       "  {'type': 'home/company info',\n",
       "   'url': 'https://staging.ianwhinkle.com/contact/'},\n",
       "  {'type': 'About page', 'url': 'https://staging.ianwhinkle.com/profile/'},\n",
       "  {'type': 'Company website', 'url': 'https://strombo.net'},\n",
       "  {'type': 'LinkedIn profile', 'url': 'https://linkedin.com/in/ianwhinkle'}]}"
      ]
     },
     "execution_count": 11,
     "metadata": {},
     "output_type": "execute_result"
    }
   ],
   "source": [
    "get_links(\"https://staging.ianwhinkle.com/\")"
   ]
  },
  {
   "cell_type": "code",
   "execution_count": 12,
   "id": "d4d520c1-f396-4485-869a-6e90693a9cea",
   "metadata": {},
   "outputs": [],
   "source": [
    "def get_all_details(url):\n",
    "    result = \"Landing page:\\n\"\n",
    "    result += Website(url).get_contents()\n",
    "    links = get_links(url)\n",
    "    print(\"Found links:\", links)\n",
    "    for link in links[\"links\"]:\n",
    "        result += f\"\\n\\n{link['type']}\\n\"\n",
    "        result += Website(link[\"url\"]).get_contents()\n",
    "    return result"
   ]
  },
  {
   "cell_type": "code",
   "execution_count": 19,
   "id": "1e70a2e5-5deb-49cd-b6a5-be752b7afb3f",
   "metadata": {},
   "outputs": [
    {
     "name": "stdout",
     "output_type": "stream",
     "text": [
      "Found links: {'links': [{'type': 'Company homepage', 'url': 'https://ianwhinkle.com'}, {'type': 'About page', 'url': 'https://staging.ianwhinkle.com/'}, {'type': 'Contact us page', 'url': 'https://staging.ianwhinkle.com/contact/'}, {'type': 'Experience/Career Page', 'url': 'https://staging.ianwhinkle.com/experience/'}]}\n"
     ]
    },
    {
     "data": {
      "text/plain": [
       "'Landing page:\\nWebpage Title:\\nIan Hinkle\\nWebpage Contents:\\nIan Hinkle\\nHome\\nProfile\\nExperience\\nContact\\nWell hey there!\\nGlad you could make it. Take a look around for more about me and my job experience.\\nProfile\\nExperience\\nContact\\n© 2025\\nIan Hinkle\\n\\n\\n\\nCompany homepage\\nWebpage Title:\\nIan Hinkle\\nWebpage Contents:\\nIan Hinkle\\nHome\\nProfile\\nExperience\\nContact\\nWell hey there!\\nGlad you could make it. Take a look around for more about me and my job experience.\\nProfile\\nExperience\\nContact\\n© 2025\\nIan Hinkle\\n\\n\\n\\nAbout page\\nWebpage Title:\\nIan Hinkle\\nWebpage Contents:\\nIan Hinkle\\nHome\\nProfile\\nExperience\\nContact\\nWell hey there!\\nGlad you could make it. Take a look around for more about me and my job experience.\\nProfile\\nExperience\\nContact\\n© 2025\\nIan Hinkle\\n\\n\\n\\nContact us page\\nWebpage Title:\\nHow to contact me | Ian Hinkle\\nWebpage Contents:\\nIan Hinkle\\nHome\\nProfile\\nExperience\\nContact\\nHow to contact me\\nPreferred methods\\n#\\nScan or click for Signal Contact\\nScan or click for SimpleX Chat Contact\\nTraditional methods\\n#\\nPhone\\n#\\n+1 737-342-6788\\nEmail\\n#\\n[email\\xa0protected]\\n© 2025\\nIan Hinkle\\n\\n\\n\\nExperience/Career Page\\nWebpage Title:\\nIan Hinkle\\nWebpage Contents:\\nIan Hinkle\\nHome\\nProfile\\nExperience\\nContact\\nWork Experience\\n#\\nMadCap Software, Inc.\\n#\\nTechnical Support Analyst II\\nApr. 2022 – Present\\nImproved internal operating procedures and documentation standards.\\nConfigured many complex test environments comprised of disparate system to replicate (and ultimately resolve) production-critical issues.\\nContinuous building and presenting of product demonstrations to highlight resolution of issues.\\nStrategically delegated tickets according to complexity and team member expertise, addressing customer escalations and high-priority issues with urgency and precision.\\nImplemented and maintained Git project integrations, Elasticsearch on IIS Servers, and Single Sign-On provisioning, ensuring seamless operations and enhanced user experience.\\nCollaborated with QA, DEV, and Customer Success departments to resolve issues and provide guidance, fostering teamwork and communication.\\nIdentified and submitted over 100 distinct software defect reports, including high-priority and critical cases, contributing to product quality improvement.\\nTrained new team members in MadCap products and troubleshooting processes, fostering a knowledgeable and proficient workforce.\\nManaged SSH configurations and operations, including establishing Shell connections, setting up OpenSSH servers, generating cryptographic keys with ssh-keygen, and utilizing PuTTYgen for key creation.\\nMadCap Software, Inc.\\n#\\nTechnical Support Analyst I\\nOct. 2020 – Apr. 2022\\nConducted comprehensive troubleshooting, including interpretation, analysis, and research to resolve issues effectively.\\nCommunicated complex solutions and provided hands-on assistance to end-users during implementation, ensuring problem resolution.\\nDemonstrated proficiency in MadCap AMS software suite and related integrations, including Salesforce, Zendesk, and ServiceNow.\\nGreater Goods Coffee Roasters\\n#\\nQuality Assurance & Training Specialist\\nJul. 2016 – Oct. 2020\\nLed education and technical training for employees and wholesale clients, fostering skill development and expertise.\\nDeveloped and delivered coursework as an Authorized Specialty Coffee Association Trainer, covering multiple certification levels using tools like PowerPoint and Word.\\nImplemented and enforced quality control protocols and systems company-wide, driving continuous improvement and maintaining high standards of excellence.\\nSkills & Interests\\n#\\nSkills:\\nGit, HTML, CSS, SSO, SSH, Mac OS, Windows, Android OS, Linux, Command Line, Customer Experience, IIS Servers, Demo To Win\\nTechnical Platforms:\\nGrapheneOS\\n,\\nSecureblue\\n, (\\nHardened\\n) Windows\\nInterests:\\nCoffee Roasting, Bouldering, Music/Audio Equipment, Gaming, Mobile Device Security\\nReferences\\n#\\nReferences and contact information available upon request.\\n© 2025\\nIan Hinkle\\n\\n'"
      ]
     },
     "execution_count": 19,
     "metadata": {},
     "output_type": "execute_result"
    }
   ],
   "source": [
    "get_all_details(\"https://staging.ianwhinkle.com/\")"
   ]
  },
  {
   "cell_type": "code",
   "execution_count": 13,
   "id": "c1e17e98-34c1-4d32-84c2-6402015a2039",
   "metadata": {},
   "outputs": [],
   "source": [
    "system_prompt = \"You are an assistant that analyzes the contents of several relevant pages from a company website \\\n",
    "and creates a short brochure about the company for prospective customers, investors and recruits. Respond in markdown.\\\n",
    "Include details of company culture, customers and careers/jobs if you have the information.\"\n",
    "\n",
    "# Or uncomment the lines below for a more humorous brochure - this demonstrates how easy it is to incorporate 'tone':\n",
    "\n",
    "# system_prompt = \"You are an assistant that analyzes the contents of several relevant pages from a company website \\\n",
    "# and creates a short humorous, entertaining, jokey brochure about the company for prospective customers, investors and recruits. Respond in markdown.\\\n",
    "# Include details of company culture, customers and careers/jobs if you have the information.\""
   ]
  },
  {
   "cell_type": "code",
   "execution_count": 14,
   "id": "bca6b041-bb0d-44fc-9248-0e80eb6bc4c2",
   "metadata": {},
   "outputs": [],
   "source": [
    "def get_brochure_user_prompt(company_name, url):\n",
    "    user_prompt = f\"You are looking at a company called: {company_name}\\n\"\n",
    "    user_prompt += f\"Here are the contents of its landing page and other relevant pages; use this information to build a short brochure of the company in markdown.\\n\"\n",
    "    user_prompt += get_all_details(url)\n",
    "    user_prompt = user_prompt[:5_000] # Truncate if more than 5,000 characters\n",
    "    return user_prompt"
   ]
  },
  {
   "cell_type": "code",
   "execution_count": 24,
   "id": "e7627a9d-2240-4d48-bee2-725bbcbb7e98",
   "metadata": {},
   "outputs": [
    {
     "name": "stdout",
     "output_type": "stream",
     "text": [
      "Found links: {'links': [{'type': 'Company homepage', 'url': 'https://staging.ianwhinkle.com/'}, {'type': 'About page', 'url': 'https://staging.ianwhinkle.com/profile/'}, {'type': 'Experience/Ignition Agency website', 'url': 'https://staging.ianwhinkle.com/experience/'}, {'type': 'Contact page', 'url': 'https://staging.ianwhinkle.com/contact/'}, {'type': 'Company LinkedIn profile', 'url': 'https://linkedin.com/in/ianwhinkle'}]}\n"
     ]
    }
   ],
   "source": [
    "user_prompt = get_brochure_user_prompt(\"Ian Hinkle\", \"https://staging.ianwhinkle.com/\")\n",
    "\n",
    "# it crashed with get_brochure_user_prompt being called in stream_brochure, but works if I get the prompt ahead of time\n",
    "# obviously the function is now ignoring the parameters.."
   ]
  },
  {
   "cell_type": "code",
   "execution_count": 21,
   "id": "c55f1dc3-de0f-45bb-90cf-bf452abbce95",
   "metadata": {},
   "outputs": [],
   "source": [
    "def stream_brochure(company_name, url):\n",
    "    stream = openai.chat.completions.create(\n",
    "        model=MODEL,\n",
    "        messages=[\n",
    "            {\"role\": \"system\", \"content\": system_prompt},\n",
    "            {\"role\": \"user\", \"content\": user_prompt}\n",
    "          ],\n",
    "        stream=True\n",
    "    )\n",
    "    \n",
    "    response = \"\"\n",
    "    display_handle = display(Markdown(\"\"), display_id=True)\n",
    "    for chunk in stream:\n",
    "        response += chunk.choices[0].delta.content or ''\n",
    "        response = response.replace(\"```\",\"\").replace(\"markdown\", \"\")\n",
    "        update_display(Markdown(response), display_id=display_handle.display_id)"
   ]
  },
  {
   "cell_type": "code",
   "execution_count": 22,
   "id": "43c4e749-65e4-4a09-aa85-e107a810e77d",
   "metadata": {},
   "outputs": [
    {
     "data": {
      "text/markdown": [
       "# Ian Hinkle: Bringing Excellence to Every Project\n",
       "\n",
       "## About Us\n",
       "\n",
       "Ian Hinkle is a seasoned Security Analyst with a passion for resolving complex issues. With a strong background in security and detail-oriented approach, Ian brings unparalleled expertise to every project.\n",
       "\n",
       "### Company Overview\n",
       "\n",
       "We are MadCap Software, Inc., a Texas State University-affiliated organization dedicated to delivering top-notch services. Our commitment to excellence drives us to create innovative solutions that meet the unique needs of our clients.\n",
       "\n",
       "## What We Do\n",
       "\n",
       "As an industry expert in security, Ian has extensive experience supporting various projects. His skills and expertise cover:\n",
       "\n",
       "*   Security analysis\n",
       "*   Complex issue resolution\n",
       "*   Project management\n",
       "\n",
       "### Our Mission\n",
       "\n",
       "At MadCap Software, Inc., we strive to create exceptional experiences for our clients and team members alike. We aim to foster a culture of innovation, collaboration, and inclusivity.\n",
       "\n",
       "## Join Our Team\n",
       "\n",
       "If you share our passion for delivering top-notch services, we encourage you to explore job opportunities with us.\n",
       "\n",
       "### Contact Us\n",
       "\n",
       "Ready to connect? Reach out to us at:\n",
       "\n",
       " Phone: +1 737-342-6788\n",
       " Email: [email protected](mailto/email@IAN-HINCKLE.com)\n",
       "\n",
       "Let's work together to create something amazing!\n",
       "\n",
       "| --- | --- |\n",
       "| **LinkedIn Profile** | [View Profile](https://www.linkedin.com/in/ianhinkle/) |\n",
       "| **Personal Website** | [Visit Site](https://ian-hingrouple.com) |\n",
       "\n",
       "## Get in Touch\n",
       "\n",
       "We can't wait to collaborate with you!"
      ],
      "text/plain": [
       "<IPython.core.display.Markdown object>"
      ]
     },
     "metadata": {},
     "output_type": "display_data"
    }
   ],
   "source": [
    "stream_brochure(\"Ian Hinkle\", \"https://staging.ianwhinkle.com/\")"
   ]
  },
  {
   "cell_type": "code",
   "execution_count": null,
   "id": "a5363851-2ce7-4d56-bf89-31e34c326150",
   "metadata": {},
   "outputs": [],
   "source": []
  }
 ],
 "metadata": {
  "kernelspec": {
   "display_name": "Python 3 (ipykernel)",
   "language": "python",
   "name": "python3"
  },
  "language_info": {
   "codemirror_mode": {
    "name": "ipython",
    "version": 3
   },
   "file_extension": ".py",
   "mimetype": "text/x-python",
   "name": "python",
   "nbconvert_exporter": "python",
   "pygments_lexer": "ipython3",
   "version": "3.11.12"
  }
 },
 "nbformat": 4,
 "nbformat_minor": 5
}
