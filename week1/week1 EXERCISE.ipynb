{
 "cells": [
  {
   "cell_type": "markdown",
   "id": "fe12c203-e6a6-452c-a655-afb8a03a4ff5",
   "metadata": {},
   "source": [
    "# End of week 1 exercise\n",
    "\n",
    "To demonstrate your familiarity with OpenAI API, and also Ollama, build a tool that takes a technical question,  \n",
    "and responds with an explanation. This is a tool that you will be able to use yourself during the course!"
   ]
  },
  {
   "cell_type": "code",
   "execution_count": 1,
   "id": "c1070317-3ed9-4659-abe3-828943230e03",
   "metadata": {},
   "outputs": [],
   "source": [
    "# imports\n",
    "# If these fail, please check you're running from an 'activated' environment with (llms) in the command prompt\n",
    "\n",
    "import os\n",
    "import os\n",
    "import requests\n",
    "import json\n",
    "from typing import List\n",
    "from dotenv import load_dotenv\n",
    "from bs4 import BeautifulSoup\n",
    "from IPython.display import Markdown, display, update_display\n",
    "from openai import OpenAI"
   ]
  },
  {
   "cell_type": "code",
   "execution_count": 10,
   "id": "4a456906-915a-4bfd-bb9d-57e505c5093f",
   "metadata": {},
   "outputs": [],
   "source": [
    "# constants\n",
    "\n",
    "MODEL_GPT = 'gpt-4o-mini'\n",
    "MODEL_LLAMA = 'llama3.2'"
   ]
  },
  {
   "cell_type": "code",
   "execution_count": 14,
   "id": "a8d7923c-5f28-4c30-8556-342d7c8497c1",
   "metadata": {},
   "outputs": [
    {
     "data": {
      "text/plain": [
       "True"
      ]
     },
     "execution_count": 14,
     "metadata": {},
     "output_type": "execute_result"
    }
   ],
   "source": [
    "# set up environment\n",
    "load_dotenv(override=True)"
   ]
  },
  {
   "cell_type": "code",
   "execution_count": 17,
   "id": "3f0d0137-52b0-47a8-81a8-11a90a010798",
   "metadata": {},
   "outputs": [],
   "source": [
    "# here is the question; type over this to ask something new\n",
    "\n",
    "question = \"\"\"\n",
    "Please explain what this code does and why:\n",
    "yield from {book.get(\"author\") for book in books if book.get(\"author\")}\n",
    "\"\"\"\n",
    "\n",
    "messages = [\n",
    "    { \"role\": \"user\", \"content\": question}\n",
    "]"
   ]
  },
  {
   "cell_type": "code",
   "execution_count": 24,
   "id": "24258430-b1d0-4842-b6c7-2d0a67421731",
   "metadata": {},
   "outputs": [],
   "source": [
    "def stream_response(openai, _messages, _model):\n",
    "    stream = openai.chat.completions.create(\n",
    "        model=_model,\n",
    "        messages=_messages,\n",
    "        stream=True\n",
    "    )\n",
    "    \n",
    "    response = \"\"\n",
    "    display_handle = display(Markdown(\"\"), display_id=True)\n",
    "    for chunk in stream:\n",
    "        response += chunk.choices[0].delta.content or ''\n",
    "        response = response.replace(\"```\",\"\").replace(\"markdown\", \"\")\n",
    "        update_display(Markdown(response), display_id=display_handle.display_id)"
   ]
  },
  {
   "cell_type": "code",
   "execution_count": 25,
   "id": "cb5d2faf-49d7-48c1-8cf6-5bbfedfab9a7",
   "metadata": {},
   "outputs": [
    {
     "data": {
      "text/plain": [
       "[{'role': 'user',\n",
       "  'content': '\\nPlease explain what this code does and why:\\nyield from {book.get(\"author\") for book in books if book.get(\"author\")}\\n'}]"
      ]
     },
     "execution_count": 25,
     "metadata": {},
     "output_type": "execute_result"
    }
   ],
   "source": [
    "messages"
   ]
  },
  {
   "cell_type": "code",
   "execution_count": 26,
   "id": "60ce7000-a4a5-4cce-a261-e75ef45063b4",
   "metadata": {},
   "outputs": [
    {
     "data": {
      "text/markdown": [
       "The provided code is a Python expression that uses a combination of a generator expression and a set comprehension. Let's break it down step-by-step:\n",
       "\n",
       "1. **`{book.get(\"author\") for book in books if book.get(\"author\")}`**:\n",
       "   - This part is a set comprehension. It creates a set (which is an unordered collection of unique elements) consisting of authors from a list or iterable called `books`.\n",
       "   - `book` is a variable that iterates over each element in `books`.\n",
       "   - `book.get(\"author\")` retrieves the value associated with the key `\"author\"` from each `book` dictionary. If the key is not present, `get` would return `None`.\n",
       "   - The condition `if book.get(\"author\")` ensures that only books with a valid (non-None and non-empty) author are included. \n",
       "   - The result is a set of unique authors from the list of books, as duplicate authors will not be added multiple times due to the properties of a set.\n",
       "\n",
       "2. **`yield from`**:\n",
       "   - The `yield from` syntax is used in a generator function. It allows a generator to yield all values from another iterable (in this case, the set created by the set comprehension) one at a time.\n",
       "   - This means that when the generator function containing this expression is called, it will produce each author from the set one by one.\n",
       "\n",
       "### Summary:\n",
       "The entire line of code is part of a generator expression that yields each unique author from the list of books, filtering out any entries that do not have an author. This allows for efficient iteration over unique authors without needing to collect them all into a list or another container beforehand. \n",
       "\n",
       "### Example Usage Context:\n",
       "You might see this kind of code in a function that processes a list of book dictionaries and you want to return a list of unique authors for some processing or display, where each author will be yielded one at a time. Here’s a simple hypothetical example of how it could be used in a function:\n",
       "\n",
       "python\n",
       "def get_unique_authors(books):\n",
       "    yield from {book.get(\"author\") for book in books if book.get(\"author\")}\n",
       "\n",
       "# Example usage (assuming you have a list of book dictionaries)\n",
       "books = [\n",
       "    {\"title\": \"Book 1\", \"author\": \"Author A\"},\n",
       "    {\"title\": \"Book 2\", \"author\": \"Author B\"},\n",
       "    {\"title\": \"Book 3\", \"author\": \"Author A\"},  # Duplicate author\n",
       "    {\"title\": \"Book 4\"}  # No author\n",
       "]\n",
       "\n",
       "for author in get_unique_authors(books):\n",
       "    print(author)  # Output: Author A, Author B\n",
       "\n",
       "\n",
       "In this example, \"Author A\" and \"Author B\" would be printed, demonstrating how the code yields unique authors."
      ],
      "text/plain": [
       "<IPython.core.display.Markdown object>"
      ]
     },
     "metadata": {},
     "output_type": "display_data"
    }
   ],
   "source": [
    "# Get gpt-4o-mini to answer, with streaming\n",
    "\n",
    "openai = OpenAI()\n",
    "stream_response(openai, messages, MODEL_GPT)"
   ]
  },
  {
   "cell_type": "code",
   "execution_count": 28,
   "id": "8f7c8ea8-4082-4ad0-8751-3301adcf6538",
   "metadata": {},
   "outputs": [
    {
     "data": {
      "text/markdown": [
       "This line of code uses a feature called \"generator expression\" in Python to iterate over a collection of items.\n",
       "\n",
       "Here's a breakdown:\n",
       "\n",
       "1. `for book in books`: This loops through each item (`book`) in the `books` collection.\n",
       "2. `yield from {...}`: This is using a syntax introduced in Python 3.3 for more concise iteration over dictionaries. The `yield from` keyword yields elements from an iterable provided as an argument, which is another dictionary comprehension here.\n",
       "3. `{book.get(\"author\") for book in books if book.get(\"author\")}`: This dictionary comprehension:\n",
       "   * `.get()` calls the \"get\" method on each item (`book`) to retrieve a value or its default value (in this case, `None`).\n",
       "   * It filters out any items where `book.get(\"author\")` is `None`.\n",
       "   * For each remaining book with an author, it yields the author's name.\n",
       "\n",
       "This effectively executes:\n",
       "\n",
       "1. Iterate through each book.\n",
       "2. Filter out books without authors.\n",
       "3. Yield only the author's name.\n",
       "\n",
       "The result of this expression can be used in any way you would a generator expression, not just as input to another `yield from` clause. \n",
       "\n",
       "Example usage:\n",
       "python\n",
       "books = [\n",
       "    {\"title\": \"Title 1\", \"author\": \"Author1\"},\n",
       "    {\"title\": \"Title2\", \"author\": None},\n",
       "    {\"title\": \"Title3\"}\n",
       "]\n",
       "\n",
       "for author in yield from {book.get(\"author\") for book in books if book.get(\"author\")}:\n",
       "    print(author)\n",
       "\n",
       "\n",
       "Result:\n",
       "\n",
       "Author1\n",
       "Author1\n"
      ],
      "text/plain": [
       "<IPython.core.display.Markdown object>"
      ]
     },
     "metadata": {},
     "output_type": "display_data"
    }
   ],
   "source": [
    "# Get Llama 3.2 to answer\n",
    "\n",
    "openai = OpenAI(base_url='http://localhost:11434/v1', api_key='ollama')\n",
    "stream_response(openai, messages, MODEL_LLAMA)"
   ]
  },
  {
   "cell_type": "code",
   "execution_count": null,
   "id": "c7f123b8-f95c-48d6-ab2d-a7854f67bcba",
   "metadata": {},
   "outputs": [],
   "source": []
  }
 ],
 "metadata": {
  "kernelspec": {
   "display_name": "Python 3 (ipykernel)",
   "language": "python",
   "name": "python3"
  },
  "language_info": {
   "codemirror_mode": {
    "name": "ipython",
    "version": 3
   },
   "file_extension": ".py",
   "mimetype": "text/x-python",
   "name": "python",
   "nbconvert_exporter": "python",
   "pygments_lexer": "ipython3",
   "version": "3.11.12"
  }
 },
 "nbformat": 4,
 "nbformat_minor": 5
}
