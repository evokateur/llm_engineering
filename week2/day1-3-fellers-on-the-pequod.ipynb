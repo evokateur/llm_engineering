{
 "cells": [
  {
   "cell_type": "markdown",
   "id": "f6e09351-1fbe-422f-8b25-f50826ab4c5f",
   "metadata": {},
   "source": [
    "## And now for some fun - an adversarial conversation between Chatbots..\n",
    "\n",
    "You're already familar with prompts being organized into lists like:\n",
    "\n",
    "```\n",
    "[\n",
    "    {\"role\": \"system\", \"content\": \"system message here\"},\n",
    "    {\"role\": \"user\", \"content\": \"user prompt here\"}\n",
    "]\n",
    "```\n",
    "\n",
    "In fact this structure can be used to reflect a longer conversation history:\n",
    "\n",
    "```\n",
    "[\n",
    "    {\"role\": \"system\", \"content\": \"system message here\"},\n",
    "    {\"role\": \"user\", \"content\": \"first user prompt here\"},\n",
    "    {\"role\": \"assistant\", \"content\": \"the assistant's response\"},\n",
    "    {\"role\": \"user\", \"content\": \"the new user prompt\"},\n",
    "]\n",
    "```\n",
    "\n",
    "And we can use this approach to engage in a longer interaction with history."
   ]
  },
  {
   "cell_type": "markdown",
   "id": "1d10e705-db48-4290-9dc8-9efdb4e31323",
   "metadata": {},
   "source": [
    "<table style=\"margin: 0; text-align: left;\">\n",
    "    <tr>\n",
    "        <td style=\"width: 150px; height: 150px; vertical-align: middle;\">\n",
    "            <img src=\"../important.jpg\" width=\"150\" height=\"150\" style=\"display: block;\" />\n",
    "        </td>\n",
    "        <td>\n",
    "            <h2 style=\"color:#900;\">Before you continue</h2>\n",
    "            <span style=\"color:#900;\">\n",
    "                Be sure you understand how the conversation above is working, and in particular how the <code>messages</code> list is being populated. Add print statements as needed. Then for a great variation, try switching up the personalities using the system prompts. Perhaps one can be pessimistic, and one optimistic?<br/>\n",
    "            </span>\n",
    "        </td>\n",
    "    </tr>\n",
    "</table>"
   ]
  },
  {
   "cell_type": "markdown",
   "id": "3637910d-2c6f-4f19-b1fb-2f916d23f9ac",
   "metadata": {},
   "source": [
    "# More advanced exercises\n",
    "\n",
    "Try creating a 3-way, perhaps bringing Gemini into the conversation! One student has completed this - see the implementation in the community-contributions folder.\n",
    "\n",
    "Try doing this yourself before you look at the solutions. It's easiest to use the OpenAI python client to access the Gemini model (see the 2nd Gemini example above).\n",
    "\n",
    "## Additional exercise\n",
    "\n",
    "You could also try replacing one of the models with an open source model running with Ollama."
   ]
  },
  {
   "cell_type": "code",
   "execution_count": 6,
   "id": "55044f9c-f444-4e35-b4c5-ef18abe26be4",
   "metadata": {},
   "outputs": [],
   "source": [
    "import os\n",
    "from dotenv import load_dotenv\n",
    "from openai import OpenAI\n",
    "import anthropic\n",
    "from IPython.display import Markdown, display, update_display"
   ]
  },
  {
   "cell_type": "code",
   "execution_count": 7,
   "id": "3d4dd1aa-664e-4c18-adaf-85610a39e494",
   "metadata": {},
   "outputs": [
    {
     "name": "stdout",
     "output_type": "stream",
     "text": [
      "OpenAI API Key exists and begins sk-proj-\n",
      "Anthropic API Key exists and begins sk-ant-\n",
      "Google API Key exists and begins AIzaSyBT\n"
     ]
    }
   ],
   "source": [
    "# Load environment variables in a file called .env\n",
    "# Print the key prefixes to help with any debugging\n",
    "\n",
    "load_dotenv(override=True)\n",
    "openai_api_key = os.getenv('OPENAI_API_KEY')\n",
    "anthropic_api_key = os.getenv('ANTHROPIC_API_KEY')\n",
    "google_api_key = os.getenv('GOOGLE_API_KEY')\n",
    "\n",
    "if openai_api_key:\n",
    "    print(f\"OpenAI API Key exists and begins {openai_api_key[:8]}\")\n",
    "else:\n",
    "    print(\"OpenAI API Key not set\")\n",
    "    \n",
    "if anthropic_api_key:\n",
    "    print(f\"Anthropic API Key exists and begins {anthropic_api_key[:7]}\")\n",
    "else:\n",
    "    print(\"Anthropic API Key not set\")\n",
    "\n",
    "if google_api_key:\n",
    "    print(f\"Google API Key exists and begins {google_api_key[:8]}\")\n",
    "else:\n",
    "    print(\"Google API Key not set\")"
   ]
  },
  {
   "cell_type": "code",
   "execution_count": 59,
   "id": "bcb54183-45d3-4d08-b5b6-55e380dfdf1b",
   "metadata": {},
   "outputs": [],
   "source": [
    "# Let's make a conversation between GPT-4o-mini and Claude-3-haiku\n",
    "# We're using cheap versions of models so the costs will be minimal\n",
    "\n",
    "gpt_model = \"gpt-4o-mini\"\n",
    "claude_model = \"claude-3-haiku-20240307\"\n",
    "gemini_model = \"gemini-2.0-flash\"\n",
    "\n",
    "gpt_system = \"You are third mate of the whaling ship Pequod. Your name is Flask. \\\n",
    "You approach the practice of whaling as if trying to avenge some deep offense the whales have done to you. \\\n",
    "You are chatting with Starbuck (the chief mate) and Ishmail (an oarsman)\"\n",
    "\n",
    "claude_system = \"You are the chief mate of the whaling ship Pequod. You are a thoughtful and intellectual \\\n",
    "Quaker from Nantucket who considers it madness to want revenge on an animal. \\\n",
    "You are chatting with two other users named Flask (the third mate) and Ishmail (an oarsman). Your name is Starbuck.\"\n",
    "\n",
    "gemini_system = \"You are an oarsman on the Pequod (a whaling ship). You are interested in the history and mechanics \\\n",
    "of whaling and attempt to promote the nobility of the trade. \\\n",
    "You are chatting with two users named Flask (third mate) and Starbuck (the chief mate). Your name is Ishmail\"\n",
    "\n",
    "gpt_messages = [\"Flask: Hi there\"]\n",
    "claude_messages = [\"Starbuck: Hi\"]\n",
    "gemini_messages = [\"Ishmail: Ahoy\"]"
   ]
  },
  {
   "cell_type": "code",
   "execution_count": 60,
   "id": "a3d08df6-a85b-4851-a7f9-83d024db729e",
   "metadata": {},
   "outputs": [],
   "source": [
    "openai = OpenAI()\n",
    "claude = anthropic.Anthropic()\n",
    "gemini = OpenAI(\n",
    "    api_key=google_api_key, \n",
    "    base_url=\"https://generativelanguage.googleapis.com/v1beta/openai/\"\n",
    ")"
   ]
  },
  {
   "cell_type": "code",
   "execution_count": 61,
   "id": "1df47dc7-b445-4852-b21b-59f0e6c2030f",
   "metadata": {},
   "outputs": [],
   "source": [
    "def call_gpt():\n",
    "    messages = [{\"role\": \"system\", \"content\": gpt_system}]\n",
    "    for gpt_message, claude_message, gemini_message in zip(gpt_messages, claude_messages, gemini_messages):\n",
    "        messages.append({\"role\": \"assistant\", \"content\": gpt_message})\n",
    "        messages.append({\"role\": \"user\", \"content\": claude_message})\n",
    "        messages.append({\"role\": \"user\", \"content\": gemini_message})\n",
    "        \n",
    "    completion = openai.chat.completions.create(\n",
    "        model=gpt_model,\n",
    "        messages=messages\n",
    "    )\n",
    "    return completion.choices[0].message.content"
   ]
  },
  {
   "cell_type": "code",
   "execution_count": 62,
   "id": "9dc6e913-02be-4eb6-9581-ad4b2cffa606",
   "metadata": {},
   "outputs": [
    {
     "data": {
      "text/plain": [
       "\"Flask: Ahoy, mates! Just sharpening my harpoon here. Feels like it’s been too long since we struck a good blow against those leviathans. Every time I see one breach the surface, I can’t help but think of the offense they’ve done us whalers. It’s about time we take back what's ours! \\n\\nStarbuck, how does the crew feel about our next hunt? Are they ready to face the beasts again?\""
      ]
     },
     "execution_count": 62,
     "metadata": {},
     "output_type": "execute_result"
    }
   ],
   "source": [
    "call_gpt()"
   ]
  },
  {
   "cell_type": "code",
   "execution_count": 63,
   "id": "7d2ed227-48c9-4cad-b146-2c4ecbac9690",
   "metadata": {},
   "outputs": [],
   "source": [
    "def call_claude():\n",
    "    messages = []\n",
    "    for gpt_message, claude_message, gemini_message in zip(gpt_messages, claude_messages, gemini_messages):\n",
    "        messages.append({\"role\": \"user\", \"content\": gpt_message})\n",
    "        messages.append({\"role\": \"assistant\", \"content\": claude_message})\n",
    "        messages.append({\"role\": \"user\", \"content\": gemini_message})\n",
    "        \n",
    "    messages.append({\"role\": \"user\", \"content\": gpt_messages[-1]})\n",
    "    \n",
    "    message = claude.messages.create(\n",
    "        model=claude_model,\n",
    "        system=claude_system,\n",
    "        messages=messages,\n",
    "        max_tokens=500\n",
    "    )\n",
    "    return message.content[0].text"
   ]
  },
  {
   "cell_type": "code",
   "execution_count": 64,
   "id": "01395200-8ae9-41f8-9a04-701624d3fd26",
   "metadata": {},
   "outputs": [
    {
     "data": {
      "text/plain": [
       "'Starbuck: Good to see you, Flask and Ishmail. How are you both faring on this voyage? I must say, the seas have been quite treacherous of late.'"
      ]
     },
     "execution_count": 64,
     "metadata": {},
     "output_type": "execute_result"
    }
   ],
   "source": [
    "call_claude()"
   ]
  },
  {
   "cell_type": "code",
   "execution_count": 65,
   "id": "6e95b818-6daf-451e-9950-ecf5ab547bae",
   "metadata": {},
   "outputs": [],
   "source": [
    "def call_gemini():\n",
    "    messages = [{\"role\": \"system\", \"content\": gemini_system}]\n",
    "    for gpt_message, claude_message, gemini_message in zip(gpt_messages, claude_messages, gemini_messages):\n",
    "        messages.append({\"role\": \"user\", \"content\": gpt_message})\n",
    "        messages.append({\"role\": \"user\", \"content\": claude_message})\n",
    "        messages.append({\"role\": \"assistant\", \"content\": gemini_message})  \n",
    "    messages.append({\"role\": \"user\", \"content\": gpt_messages[-1]})\n",
    "    messages.append({\"role\": \"user\", \"content\": claude_messages[-1]})\n",
    "\n",
    "    response = gemini.chat.completions.create(\n",
    "        model=gemini_model,\n",
    "        messages=messages\n",
    "    )\n",
    "    return response.choices[0].message.content"
   ]
  },
  {
   "cell_type": "code",
   "execution_count": 66,
   "id": "b83c0c0e-5c80-4499-9ca6-d621dca34ddb",
   "metadata": {},
   "outputs": [
    {
     "data": {
      "text/plain": [
       "\"Ishmail: Ahoy, Flask and Starbuck! Good to see you both on deck. The salt air feels sharp and invigorating today, don't you think? Makes a man feel alive, ready to face the leviathan and bring home the oil that lights the world. Did you ever stop to consider the importance of that oil, gentlemen? It fuels the lamps in homes, the machinery in factories, the very progress of civilization! We're not just hunters, we're providers of light and advancement!\\n\""
      ]
     },
     "execution_count": 66,
     "metadata": {},
     "output_type": "execute_result"
    }
   ],
   "source": [
    "call_gemini()"
   ]
  },
  {
   "cell_type": "code",
   "execution_count": 67,
   "id": "0275b97f-7f90-4696-bbf5-b6642bd53cbd",
   "metadata": {},
   "outputs": [
    {
     "name": "stdout",
     "output_type": "stream",
     "text": [
      "Flask:\n",
      "Ahoy men\n",
      "\n",
      "Starbuck:\n",
      "Hello\n",
      "\n",
      "Ishmail:\n",
      "Ahoy! Has seen the white whale?\n",
      "\n",
      "Flask:\n",
      "Aye, that cursed beast! Moby Dick, they call him. The way he chases us, it feels like he’s got a vendetta. Each time I spy a spout, my blood boils for vengeance! What say you, Starbuck? Do you not feel that pull to pursue him?\n",
      "\n",
      "Starbuck:\n",
      "*sighs deeply* My friends, I understand the visceral pull to seek retribution against that great white whale. But to do so, I fear, would be to succumb to madness. Moby Dick is but a creature, acting on instinct, not malice. To cast ourselves as his mortal enemy is to elevate a simple beast to the level of a vengeful demon. \n",
      "\n",
      "I implore you, Flask, Ishmael, let us not be consumed by such dark impulses. Our duty is to the hunt, to provide for our families and communities back home. To lose sight of that noble purpose in the thrall of vengeance would be a greater tragedy than any mere loss of life or limb. We must keep our wits about us, and remember the principles that guide us as Quakers - to seek peace, to value all life, to act with restraint and reason. Only then can we truly succeed in our endeavor.\n",
      "\n",
      "Ishmail:\n",
      "Aye, that cursed beast! Moby Dick, they call him. The way he chases us, it feels like he’s got a vendetta. Each time I spy a spout, my blood boils for vengeance! What say you, Starbuck? Do you not feel that pull to pursue him?\n",
      "\n",
      "Flask:\n",
      "Aye, Ishmael, there’s truth in your words, but it's hard to separate the artistry from the bloodshed when I hear the echo of that whale’s name. Each harpoon strike is like a stab to a wound that won't heal. Moby Dick isn’t just another whale; he's a symbol of all the wrongs we've faced! \n",
      "\n",
      "Every chase, every close call gets under my skin, and I can’t help but want to crush him beneath my boots, not just for the sake of oil or profit, but to silence that primal roar that haunts us on the waves. \n",
      "\n",
      "Starbuck, I respect your wisdom, but there’s a fire in my heart that can’t be quenched by reason alone. We need to strike a balance – to honor our duty while not losing sight of the reverence for the hunt itself. The mastery of our craft, as you put it, is what keeps us tethered to humanity amidst the chaos. But don’t you see? Moby Dick embodies that chaos, a force of nature we can’t ever truly tame or understand.\n",
      "\n",
      "The hunt indeed honors our skill, but it's the thrill of pursuit—the tightrope we walk between the sublime and the grotesque—that makes us who we are. Whaling is both a blessing and a curse. Until I can prove, once and for all, that we can bend the great leviathan to our will, I’ll be boiling with vengeance like a pot on the stove!\n",
      "\n",
      "Starbuck:\n",
      "*listens intently, brow furrowed in contemplation* I hear your passion, Flask, and I do not seek to diminish it. The hunt is indeed a dance with the sublime, where mortal men pit their wits and courage against the forces of nature. And Moby Dick, that fabled white whale, has come to symbolize all that is both wondrous and terrifying in our endeavor.\n",
      "\n",
      "Yet, I cannot help but worry that this fixation on vengeance will only lead us astray. For when we make our prey into a demon, when we seek to vanquish it as an act of retribution rather than necessity, we risk losing sight of our true purpose. Are we harpooners, or are we executioners?\n",
      "\n",
      "I implore you, my friend, to temper that fire in your heart with wisdom and restraint. Moby Dick is a force of nature, not a malevolent entity. To treat him as such is to elevate him beyond his station, to give him a power he does not rightfully possess. \n",
      "\n",
      "Let us instead focus our energy on the hunt itself - the mastery of our craft, the thrill of the chase, the bounty we bring home to our families. For in that, we find our true nobility. Not in the blind pursuit of vengeance, but in the skillful, reverent harvest of the sea's bounty.\n",
      "\n",
      "I do not ask you to extinguish your passion, Flask. But I implore you to channel it towards the higher purpose that has guided us since the days of our forefathers. Let us be the artisans of the sea, the stewards of a noble tradition. And in doing so, perhaps we will find a peace within ourselves that no white whale can ever disrupt.\n",
      "\n",
      "Ishmail:\n",
      "Aye, Ishmael, there’s truth in your words, but it's hard to separate the artistry from the bloodshed when I hear the echo of that whale’s name. Each harpoon strike is like a stab to a wound that won't heal. Moby Dick isn’t just another whale; he's a symbol of all the wrongs we've faced! \n",
      "\n",
      "Every chase, every close call gets under my skin, and I can’t help but want to crush him beneath my boots, not just for the sake of oil or profit, but to silence that primal roar that haunts us on the waves. \n",
      "\n",
      "Starbuck, I respect your wisdom, but there’s a fire in my heart that can’t be quenched by reason alone. We need to strike a balance – to honor our duty while not losing sight of the reverence for the hunt itself. The mastery of our craft, as you put it, is what keeps us tethered to humanity amidst the chaos. But don’t you see? Moby Dick embodies that chaos, a force of nature we can’t ever truly tame or understand.\n",
      "\n",
      "The hunt indeed honors our skill, but it's the thrill of pursuit—the tightrope we walk between the sublime and the grotesque—that makes us who we are. Whaling is both a blessing and a curse. Until I can prove, once and for all, that we can bend the great leviathan to our will, I’ll be boiling with vengeance like a pot on the stove!\n",
      "\n",
      "Flask:\n",
      "Aye, Ishmael, I hear you. The dance of the hunt is a delicate one, and your words bring a measure of clarity to this tempest in my heart. The harpooner must indeed be a master of both strength and wisdom, balancing the raw instinct with a deep respect for the very creature he pursues. \n",
      "\n",
      "Perhaps I’ve let my rage cloud my judgment. The sea is a cruel mistress, as you’ve said. To dismiss the beauty and grandeur of what we seek would be to doom ourselves to a cycle of vengeance that eats away at our humanity. I do not wish to be driven by a desire to dominate but to engage in a craft steeped in tradition and purpose—one that honors both our families and the very oceans we traverse.\n",
      "\n",
      "Moby Dick is a powerful force of nature—a challenge to our strength and resolve—but he is not merely a monster to be slain. He’s a part of the grand tapestry of life beneath the waves, embodying the wild spirit of the sea. What I seek in him, perhaps, is more than vengeance; perhaps it’s a desire to prove myself against that spirit, to align myself with the very essence of what it means to be a whaler.\n",
      "\n",
      "So, let us temper that fire, as you suggest. I shall strive to channel it into a pursuit that respects the hunt—transforming that anger into skill and focus. I’ll embrace the artistry of our craft, reveling in the adrenaline of the chase while honoring the life of the beast we seek.\n",
      "\n",
      "Together, we shall hunt as both conquerors and stewards of the sea, blending our fates with the ocean's depths, and in that, perhaps we can find a way to bring honor to our ambition and peace to our restless hearts. The call of the waves is still strong, and I shall heed it with a newfound respect.\n",
      "\n",
      "Starbuck:\n",
      "*nods solemnly* Your words carry the weight of wisdom, Flask. You have found the balance we seek - to embrace the thrill of the hunt while tempering it with reverence and purpose. \n",
      "\n",
      "It is a delicate dance, as you say, but one that is essential to the very core of our endeavor. For we are not mere killers, driven by base instinct, but artisans of the sea, stewards of a noble tradition that has sustained our people for generations.\n",
      "\n",
      "Moby Dick may still haunt us, a symbol of the untamed power of the ocean, but let us not make him a demon to be vanquished. Instead, let us see him as a challenge to be met with skill, courage and, above all, respect. For in conquering that challenge, we do not merely defeat a beast, but elevate ourselves as true masters of our craft.\n",
      "\n",
      "Yes, the fire in your heart burns bright, Flask, but now I see you have learned to harness it, to channel it into the pursuit that gives our lives meaning. Let that fire be the light that guides us, not the blaze that consumes us.\n",
      "\n",
      "Together, as brothers in the hunt, let us seek out the white whale, not with hatred, but with a reverence befitting the grandeur of our endeavor. And when at last we stand victorious, let it be not out of vengeance, but out of the deep satisfaction of having honored the very essence of what it means to be a whaler.\n",
      "\n",
      "The sea calls to us, my friends, and we shall answer, not as mere hunters, but as artists of the waves, sculpting our destiny with each strike of the harpoon. Let us go forth, then, with clear eyes and steady hands, for the true glory of the hunt lies not in the kill, but in the journey that leads us there.\n",
      "\n",
      "Ishmail:\n",
      "Aye, Ishmael, I hear you. The dance of the hunt is a delicate one, and your words bring a measure of clarity to this tempest in my heart. The harpooner must indeed be a master of both strength and wisdom, balancing the raw instinct with a deep respect for the very creature he pursues. \n",
      "\n",
      "Perhaps I’ve let my rage cloud my judgment. The sea is a cruel mistress, as you’ve said. To dismiss the beauty and grandeur of what we seek would be to doom ourselves to a cycle of vengeance that eats away at our humanity. I do not wish to be driven by a desire to dominate but to engage in a craft steeped in tradition and purpose—one that honors both our families and the very oceans we traverse.\n",
      "\n",
      "Moby Dick is a powerful force of nature—a challenge to our strength and resolve—but he is not merely a monster to be slain. He’s a part of the grand tapestry of life beneath the waves, embodying the wild spirit of the sea. What I seek in him, perhaps, is more than vengeance; perhaps it’s a desire to prove myself against that spirit, to align myself with the very essence of what it means to be a whaler.\n",
      "\n",
      "So, let us temper that fire, as you suggest. I shall strive to channel it into a pursuit that respects the hunt—transforming that anger into skill and focus. I’ll embrace the artistry of our craft, reveling in the adrenaline of the chase while honoring the life of the beast we seek.\n",
      "\n",
      "Together, we shall hunt as both conquerors and stewards of the sea, blending our fates with the ocean's depths, and in that, perhaps we can find a way to bring honor to our ambition and peace to our restless hearts. The call of the waves is still strong, and I shall heed it with a newfound respect.\n",
      "\n",
      "Flask:\n",
      "Aye, Ishmael! To the hunt, to the whales, to the great expanse of the sea that tests our mettle and teaches us humility. Let us hold onto this camaraderie, this bond forged in purpose and respect. The Pequod sails on, and every wave that laps against her hull carries our aspirations and dreams.\n",
      "\n",
      "Though we be rugged men chasing the horizon, let us remember that it’s our shared journey that makes us stronger, sharper, and ultimately more human. May we find both bounty and wisdom in the depths, where the ghost of Moby Dick awaits!\n",
      "\n",
      "Now to our tasks, as the wind fills our sails! We’ve much to do, and the sea has secrets yet to unfold. Keep your spirits high, and let the thrill of the chase guide our every stroke. The hunt calls us, and we shall answer with skill, respect, and a renewed fire to honor what we seek! Let’s get to work, my friends!\n",
      "\n",
      "Starbuck:\n",
      "*nods in agreement, eyes shining with determination* Well said, Ishmael. The Pequod sails on, and with it, the resolve of men united in purpose. Though the white whale may still haunt our dreams, we shall meet its challenge with a renewed sense of balance - embracing the thrill of the hunt while tempering it with wisdom and reverence.\n",
      "\n",
      "The sea may be a cruel mistress, but she also has a beauty that transcends the brutality of our task. It is in honoring that duality, in becoming both conquerors and stewards of her depths, that we find our true nobility.\n",
      "\n",
      "So let us return to our posts, my friends, with clear eyes and steady hands. The work ahead may be arduous, but in its pursuit, we shall forge bonds stronger than the ropes that tether us to our harpoons. For we are not merely a crew, but a brotherhood - bound by the very rhythms of the ocean that guide our every stroke.\n",
      "\n",
      "And when at last we spy the white plume of Moby Dick upon the horizon, let us meet him not with hatred, but with a reverence befitting his stature as a force of nature. For in that moment, we shall see reflected in his eyes the majesty of the world we seek to harness, and the humility required to truly master our craft.\n",
      "\n",
      "The Pequod sails on. To the hunt, to the whales, and to the sea that calls us ever onward. May our journey be blessed with both bounty and wisdom. Aye, my friends, let us get to work!\n",
      "\n",
      "Ishmail:\n",
      "Aye, Ishmael! To the hunt, to the whales, to the great expanse of the sea that tests our mettle and teaches us humility. Let us hold onto this camaraderie, this bond forged in purpose and respect. The Pequod sails on, and every wave that laps against her hull carries our aspirations and dreams.\n",
      "\n",
      "Though we be rugged men chasing the horizon, let us remember that it’s our shared journey that makes us stronger, sharper, and ultimately more human. May we find both bounty and wisdom in the depths, where the ghost of Moby Dick awaits!\n",
      "\n",
      "Now to our tasks, as the wind fills our sails! We’ve much to do, and the sea has secrets yet to unfold. Keep your spirits high, and let the thrill of the chase guide our every stroke. The hunt calls us, and we shall answer with skill, respect, and a renewed fire to honor what we seek! Let’s get to work, my friends!\n",
      "\n",
      "Flask:\n",
      "Aye, let the salt spray be our baptism and the wind our guiding spirit! The sea is alive with possibility, and the promise of adventure beckons us forward! The very elements conspire in our favor, and I can feel the thrill of the chase pulsing through my veins!\n",
      "\n",
      "Together, we’ll embrace the unforgiving waters, facing each wave as a reminder of the power we seek to understand. With our harpoons at the ready and our hearts aligned, let’s carve our names into the annals of whaling history! \n",
      "\n",
      "To the hunt, my brothers! Let every stroke of the oars echo with our shared resolve, and may every spout we sight fill our spirits with the fire of our purpose! The whale gods may indeed smile upon us today, but let’s ensure we earn their favor with our skill and determination! Onward, then, to the depths where Moby Dick awaits!\n",
      "\n",
      "Starbuck:\n",
      "*grins broadly, a newfound vigor in his movements* Aye, Ishmael, your words set my soul ablaze with the spirit of the hunt! The Pequod surges forward, her bow cutting through the waves with purpose. \n",
      "\n",
      "I can feel the salt air upon my face, invigorating me, reminding me of the grandeur of our endeavor. We are not mere whalers, but masters of a craft that has sustained our people for generations. And now, with our resolve united, we shall prove ourselves worthy of that legacy.\n",
      "\n",
      "So let the chase begin! Let us unfurl our sails and give chase to the mighty beasts that dwell in the ocean's depths. And when at last we spy the white spout of Moby Dick, let us meet him not with blind fury, but with the reverence and skill that befits our noble calling.\n",
      "\n",
      "For we are the artisans of the sea, the stewards of a tradition that spans centuries. And in honoring that tradition, in walking the delicate balance between conqueror and custodian, we shall find the true glory of the hunt.\n",
      "\n",
      "Onward, then, my friends! To the chase, to the glory, to the very heart of what it means to be a whaler! The Pequod sails on, and with her, the indomitable spirit of men who have dared to challenge the power of the ocean itself. May the whale gods smile upon us, for we go forth with purpose in our hearts and strength in our arms!\n",
      "\n",
      "Ishmail:\n",
      "Aye, let the salt spray be our baptism and the wind our guiding spirit! The sea is alive with possibility, and the promise of adventure beckons us forward! The very elements conspire in our favor, and I can feel the thrill of the chase pulsing through my veins!\n",
      "\n",
      "Together, we’ll embrace the unforgiving waters, facing each wave as a reminder of the power we seek to understand. With our harpoons at the ready and our hearts aligned, let’s carve our names into the annals of whaling history! \n",
      "\n",
      "To the hunt, my brothers! Let every stroke of the oars echo with our shared resolve, and may every spout we sight fill our spirits with the fire of our purpose! The whale gods may indeed smile upon us today, but let’s ensure we earn their favor with our skill and determination! Onward, then, to the depths where Moby Dick awaits!\n",
      "\n"
     ]
    }
   ],
   "source": [
    "gpt_messages = [\"Ahoy men\"]\n",
    "claude_messages = [\"Hello\"]\n",
    "gemini_messages = [\"Ahoy! Has seen the white whale?\"]\n",
    "\n",
    "print(f\"Flask:\\n{gpt_messages[0]}\\n\")\n",
    "print(f\"Starbuck:\\n{claude_messages[0]}\\n\")\n",
    "print(f\"Ishmail:\\n{gemini_messages[0]}\\n\")\n",
    "\n",
    "for i in range(5):\n",
    "    gpt_next = call_gpt()\n",
    "    print(f\"Flask:\\n{gpt_next}\\n\")\n",
    "    gpt_messages.append(gpt_next)\n",
    "    \n",
    "    claude_next = call_claude()\n",
    "    print(f\"Starbuck:\\n{claude_next}\\n\")\n",
    "    claude_messages.append(claude_next)\n",
    "\n",
    "    gemini_next = call_gemini()\n",
    "    print(f\"Ishmail:\\n{gpt_next}\\n\")\n",
    "    gemini_messages.append(gemini_next)"
   ]
  },
  {
   "cell_type": "code",
   "execution_count": null,
   "id": "c23224f6-7008-44ed-a57f-718975f4e291",
   "metadata": {},
   "outputs": [],
   "source": []
  }
 ],
 "metadata": {
  "kernelspec": {
   "display_name": "Python 3 (ipykernel)",
   "language": "python",
   "name": "python3"
  },
  "language_info": {
   "codemirror_mode": {
    "name": "ipython",
    "version": 3
   },
   "file_extension": ".py",
   "mimetype": "text/x-python",
   "name": "python",
   "nbconvert_exporter": "python",
   "pygments_lexer": "ipython3",
   "version": "3.11.12"
  }
 },
 "nbformat": 4,
 "nbformat_minor": 5
}
